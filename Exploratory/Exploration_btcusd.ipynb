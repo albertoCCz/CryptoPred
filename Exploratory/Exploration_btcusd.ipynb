{
 "cells": [
  {
   "cell_type": "code",
   "execution_count": 30,
   "id": "alert-privacy",
   "metadata": {},
   "outputs": [],
   "source": [
    "import pandas as pd\n",
    "import xarray as xr\n",
    "import numpy as np"
   ]
  },
  {
   "cell_type": "code",
   "execution_count": 31,
   "id": "brilliant-matter",
   "metadata": {},
   "outputs": [],
   "source": [
    "import datetime"
   ]
  },
  {
   "cell_type": "code",
   "execution_count": 32,
   "id": "australian-probability",
   "metadata": {},
   "outputs": [],
   "source": [
    "import matplotlib.pyplot as plt\n",
    "import seaborn as sns"
   ]
  },
  {
   "cell_type": "markdown",
   "id": "affiliated-whole",
   "metadata": {},
   "source": [
    "### Load data"
   ]
  },
  {
   "cell_type": "code",
   "execution_count": 33,
   "id": "attractive-momentum",
   "metadata": {},
   "outputs": [],
   "source": [
    "path_data = 'C:/Users/Alberto/Desktop/Crypto prediction/Data/'\n",
    "data_file_name = 'btcusd.csv'\n",
    "data = pd.read_csv(path_data + data_file_name)"
   ]
  },
  {
   "cell_type": "code",
   "execution_count": 34,
   "id": "stable-serve",
   "metadata": {},
   "outputs": [
    {
     "data": {
      "text/html": [
       "<div>\n",
       "<style scoped>\n",
       "    .dataframe tbody tr th:only-of-type {\n",
       "        vertical-align: middle;\n",
       "    }\n",
       "\n",
       "    .dataframe tbody tr th {\n",
       "        vertical-align: top;\n",
       "    }\n",
       "\n",
       "    .dataframe thead th {\n",
       "        text-align: right;\n",
       "    }\n",
       "</style>\n",
       "<table border=\"1\" class=\"dataframe\">\n",
       "  <thead>\n",
       "    <tr style=\"text-align: right;\">\n",
       "      <th></th>\n",
       "      <th>time</th>\n",
       "      <th>open</th>\n",
       "      <th>close</th>\n",
       "      <th>high</th>\n",
       "      <th>low</th>\n",
       "      <th>volume</th>\n",
       "    </tr>\n",
       "  </thead>\n",
       "  <tbody>\n",
       "    <tr>\n",
       "      <th>0</th>\n",
       "      <td>1364774820000</td>\n",
       "      <td>93.25</td>\n",
       "      <td>93.30</td>\n",
       "      <td>93.30</td>\n",
       "      <td>93.25</td>\n",
       "      <td>93.300000</td>\n",
       "    </tr>\n",
       "    <tr>\n",
       "      <th>1</th>\n",
       "      <td>1364774880000</td>\n",
       "      <td>100.00</td>\n",
       "      <td>100.00</td>\n",
       "      <td>100.00</td>\n",
       "      <td>100.00</td>\n",
       "      <td>93.300000</td>\n",
       "    </tr>\n",
       "    <tr>\n",
       "      <th>2</th>\n",
       "      <td>1364774940000</td>\n",
       "      <td>93.30</td>\n",
       "      <td>93.30</td>\n",
       "      <td>93.30</td>\n",
       "      <td>93.30</td>\n",
       "      <td>33.676862</td>\n",
       "    </tr>\n",
       "    <tr>\n",
       "      <th>3</th>\n",
       "      <td>1364775060000</td>\n",
       "      <td>93.35</td>\n",
       "      <td>93.47</td>\n",
       "      <td>93.47</td>\n",
       "      <td>93.35</td>\n",
       "      <td>20.000000</td>\n",
       "    </tr>\n",
       "    <tr>\n",
       "      <th>4</th>\n",
       "      <td>1364775120000</td>\n",
       "      <td>93.47</td>\n",
       "      <td>93.47</td>\n",
       "      <td>93.47</td>\n",
       "      <td>93.47</td>\n",
       "      <td>2.021627</td>\n",
       "    </tr>\n",
       "  </tbody>\n",
       "</table>\n",
       "</div>"
      ],
      "text/plain": [
       "            time    open   close    high     low     volume\n",
       "0  1364774820000   93.25   93.30   93.30   93.25  93.300000\n",
       "1  1364774880000  100.00  100.00  100.00  100.00  93.300000\n",
       "2  1364774940000   93.30   93.30   93.30   93.30  33.676862\n",
       "3  1364775060000   93.35   93.47   93.47   93.35  20.000000\n",
       "4  1364775120000   93.47   93.47   93.47   93.47   2.021627"
      ]
     },
     "execution_count": 34,
     "metadata": {},
     "output_type": "execute_result"
    }
   ],
   "source": [
    "data.head()"
   ]
  },
  {
   "cell_type": "markdown",
   "id": "completed-competition",
   "metadata": {},
   "source": [
    "### Index time"
   ]
  },
  {
   "cell_type": "code",
   "execution_count": 35,
   "id": "marine-yemen",
   "metadata": {},
   "outputs": [],
   "source": [
    "def from_unix_to_datetime(unix_time):\n",
    "    return datetime.datetime.fromtimestamp(int(unix_time))"
   ]
  },
  {
   "cell_type": "code",
   "execution_count": 36,
   "id": "dutch-praise",
   "metadata": {},
   "outputs": [],
   "source": [
    "def to_str(element):\n",
    "    return str(element)[:10]"
   ]
  },
  {
   "cell_type": "code",
   "execution_count": 37,
   "id": "young-diabetes",
   "metadata": {},
   "outputs": [],
   "source": [
    "data['Time'] = data['time'].apply(to_str).apply(from_unix_to_datetime)"
   ]
  },
  {
   "cell_type": "code",
   "execution_count": 38,
   "id": "opened-stupid",
   "metadata": {},
   "outputs": [
    {
     "data": {
      "text/plain": [
       "0          1364774820000\n",
       "1          1364774880000\n",
       "2          1364774940000\n",
       "3          1364775060000\n",
       "4          1364775120000\n",
       "               ...      \n",
       "3245591    1615388760000\n",
       "3245592    1615388820000\n",
       "3245593    1615388880000\n",
       "3245594    1615388940000\n",
       "3245595    1615389000000\n",
       "Name: time, Length: 3245596, dtype: int64"
      ]
     },
     "execution_count": 38,
     "metadata": {},
     "output_type": "execute_result"
    }
   ],
   "source": [
    "data.pop('time')"
   ]
  },
  {
   "cell_type": "code",
   "execution_count": 39,
   "id": "exceptional-pixel",
   "metadata": {},
   "outputs": [],
   "source": [
    "data.set_index(data['Time'], drop=True, inplace=True)"
   ]
  },
  {
   "cell_type": "code",
   "execution_count": 40,
   "id": "defined-automation",
   "metadata": {},
   "outputs": [
    {
     "data": {
      "text/plain": [
       "Time\n",
       "2013-04-01 02:07:00   2013-04-01 02:07:00\n",
       "2013-04-01 02:08:00   2013-04-01 02:08:00\n",
       "2013-04-01 02:09:00   2013-04-01 02:09:00\n",
       "2013-04-01 02:11:00   2013-04-01 02:11:00\n",
       "2013-04-01 02:12:00   2013-04-01 02:12:00\n",
       "                              ...        \n",
       "2021-03-10 16:06:00   2021-03-10 16:06:00\n",
       "2021-03-10 16:07:00   2021-03-10 16:07:00\n",
       "2021-03-10 16:08:00   2021-03-10 16:08:00\n",
       "2021-03-10 16:09:00   2021-03-10 16:09:00\n",
       "2021-03-10 16:10:00   2021-03-10 16:10:00\n",
       "Name: Time, Length: 3245596, dtype: datetime64[ns]"
      ]
     },
     "execution_count": 40,
     "metadata": {},
     "output_type": "execute_result"
    }
   ],
   "source": [
    "data.pop('Time')"
   ]
  },
  {
   "cell_type": "markdown",
   "id": "prospective-economy",
   "metadata": {},
   "source": [
    "### Data exploration"
   ]
  },
  {
   "cell_type": "code",
   "execution_count": 41,
   "id": "pharmaceutical-packaging",
   "metadata": {},
   "outputs": [
    {
     "data": {
      "text/html": [
       "<div>\n",
       "<style scoped>\n",
       "    .dataframe tbody tr th:only-of-type {\n",
       "        vertical-align: middle;\n",
       "    }\n",
       "\n",
       "    .dataframe tbody tr th {\n",
       "        vertical-align: top;\n",
       "    }\n",
       "\n",
       "    .dataframe thead th {\n",
       "        text-align: right;\n",
       "    }\n",
       "</style>\n",
       "<table border=\"1\" class=\"dataframe\">\n",
       "  <thead>\n",
       "    <tr style=\"text-align: right;\">\n",
       "      <th></th>\n",
       "      <th>open</th>\n",
       "      <th>close</th>\n",
       "      <th>high</th>\n",
       "      <th>low</th>\n",
       "      <th>volume</th>\n",
       "    </tr>\n",
       "  </thead>\n",
       "  <tbody>\n",
       "    <tr>\n",
       "      <th>count</th>\n",
       "      <td>3.245596e+06</td>\n",
       "      <td>3.245596e+06</td>\n",
       "      <td>3.245596e+06</td>\n",
       "      <td>3.245596e+06</td>\n",
       "      <td>3.245596e+06</td>\n",
       "    </tr>\n",
       "    <tr>\n",
       "      <th>mean</th>\n",
       "      <td>6.191089e+03</td>\n",
       "      <td>6.191097e+03</td>\n",
       "      <td>6.194570e+03</td>\n",
       "      <td>6.187574e+03</td>\n",
       "      <td>1.769986e+01</td>\n",
       "    </tr>\n",
       "    <tr>\n",
       "      <th>std</th>\n",
       "      <td>7.950879e+03</td>\n",
       "      <td>7.950914e+03</td>\n",
       "      <td>7.957110e+03</td>\n",
       "      <td>7.944559e+03</td>\n",
       "      <td>5.955338e+01</td>\n",
       "    </tr>\n",
       "    <tr>\n",
       "      <th>min</th>\n",
       "      <td>1.000000e-02</td>\n",
       "      <td>1.060000e+00</td>\n",
       "      <td>1.060000e+00</td>\n",
       "      <td>1.000000e-02</td>\n",
       "      <td>1.000000e-08</td>\n",
       "    </tr>\n",
       "    <tr>\n",
       "      <th>25%</th>\n",
       "      <td>6.092800e+02</td>\n",
       "      <td>6.092800e+02</td>\n",
       "      <td>6.095300e+02</td>\n",
       "      <td>6.090100e+02</td>\n",
       "      <td>5.537165e-01</td>\n",
       "    </tr>\n",
       "    <tr>\n",
       "      <th>50%</th>\n",
       "      <td>4.305028e+03</td>\n",
       "      <td>4.305000e+03</td>\n",
       "      <td>4.307300e+03</td>\n",
       "      <td>4.302600e+03</td>\n",
       "      <td>3.185655e+00</td>\n",
       "    </tr>\n",
       "    <tr>\n",
       "      <th>75%</th>\n",
       "      <td>8.882000e+03</td>\n",
       "      <td>8.882100e+03</td>\n",
       "      <td>8.886500e+03</td>\n",
       "      <td>8.878400e+03</td>\n",
       "      <td>1.337075e+01</td>\n",
       "    </tr>\n",
       "    <tr>\n",
       "      <th>max</th>\n",
       "      <td>5.831700e+04</td>\n",
       "      <td>5.831700e+04</td>\n",
       "      <td>5.832124e+04</td>\n",
       "      <td>5.830400e+04</td>\n",
       "      <td>7.228079e+03</td>\n",
       "    </tr>\n",
       "  </tbody>\n",
       "</table>\n",
       "</div>"
      ],
      "text/plain": [
       "               open         close          high           low        volume\n",
       "count  3.245596e+06  3.245596e+06  3.245596e+06  3.245596e+06  3.245596e+06\n",
       "mean   6.191089e+03  6.191097e+03  6.194570e+03  6.187574e+03  1.769986e+01\n",
       "std    7.950879e+03  7.950914e+03  7.957110e+03  7.944559e+03  5.955338e+01\n",
       "min    1.000000e-02  1.060000e+00  1.060000e+00  1.000000e-02  1.000000e-08\n",
       "25%    6.092800e+02  6.092800e+02  6.095300e+02  6.090100e+02  5.537165e-01\n",
       "50%    4.305028e+03  4.305000e+03  4.307300e+03  4.302600e+03  3.185655e+00\n",
       "75%    8.882000e+03  8.882100e+03  8.886500e+03  8.878400e+03  1.337075e+01\n",
       "max    5.831700e+04  5.831700e+04  5.832124e+04  5.830400e+04  7.228079e+03"
      ]
     },
     "execution_count": 41,
     "metadata": {},
     "output_type": "execute_result"
    }
   ],
   "source": [
    "data.describe()"
   ]
  },
  {
   "cell_type": "code",
   "execution_count": 42,
   "id": "cross-cutting",
   "metadata": {},
   "outputs": [
    {
     "data": {
      "text/html": [
       "<div>\n",
       "<style scoped>\n",
       "    .dataframe tbody tr th:only-of-type {\n",
       "        vertical-align: middle;\n",
       "    }\n",
       "\n",
       "    .dataframe tbody tr th {\n",
       "        vertical-align: top;\n",
       "    }\n",
       "\n",
       "    .dataframe thead th {\n",
       "        text-align: right;\n",
       "    }\n",
       "</style>\n",
       "<table border=\"1\" class=\"dataframe\">\n",
       "  <thead>\n",
       "    <tr style=\"text-align: right;\">\n",
       "      <th></th>\n",
       "      <th>open</th>\n",
       "      <th>close</th>\n",
       "      <th>high</th>\n",
       "      <th>low</th>\n",
       "      <th>volume</th>\n",
       "    </tr>\n",
       "  </thead>\n",
       "  <tbody>\n",
       "    <tr>\n",
       "      <th>open</th>\n",
       "      <td>1.000000</td>\n",
       "      <td>0.999998</td>\n",
       "      <td>0.999999</td>\n",
       "      <td>0.999999</td>\n",
       "      <td>-0.047487</td>\n",
       "    </tr>\n",
       "    <tr>\n",
       "      <th>close</th>\n",
       "      <td>0.999998</td>\n",
       "      <td>1.000000</td>\n",
       "      <td>0.999999</td>\n",
       "      <td>0.999999</td>\n",
       "      <td>-0.047516</td>\n",
       "    </tr>\n",
       "    <tr>\n",
       "      <th>high</th>\n",
       "      <td>0.999999</td>\n",
       "      <td>0.999999</td>\n",
       "      <td>1.000000</td>\n",
       "      <td>0.999998</td>\n",
       "      <td>-0.047226</td>\n",
       "    </tr>\n",
       "    <tr>\n",
       "      <th>low</th>\n",
       "      <td>0.999999</td>\n",
       "      <td>0.999999</td>\n",
       "      <td>0.999998</td>\n",
       "      <td>1.000000</td>\n",
       "      <td>-0.047796</td>\n",
       "    </tr>\n",
       "    <tr>\n",
       "      <th>volume</th>\n",
       "      <td>-0.047487</td>\n",
       "      <td>-0.047516</td>\n",
       "      <td>-0.047226</td>\n",
       "      <td>-0.047796</td>\n",
       "      <td>1.000000</td>\n",
       "    </tr>\n",
       "  </tbody>\n",
       "</table>\n",
       "</div>"
      ],
      "text/plain": [
       "            open     close      high       low    volume\n",
       "open    1.000000  0.999998  0.999999  0.999999 -0.047487\n",
       "close   0.999998  1.000000  0.999999  0.999999 -0.047516\n",
       "high    0.999999  0.999999  1.000000  0.999998 -0.047226\n",
       "low     0.999999  0.999999  0.999998  1.000000 -0.047796\n",
       "volume -0.047487 -0.047516 -0.047226 -0.047796  1.000000"
      ]
     },
     "execution_count": 42,
     "metadata": {},
     "output_type": "execute_result"
    }
   ],
   "source": [
    "data.corr()"
   ]
  },
  {
   "cell_type": "code",
   "execution_count": 43,
   "id": "closing-acceptance",
   "metadata": {},
   "outputs": [],
   "source": [
    "#sns.heatmap(data.corr())"
   ]
  },
  {
   "cell_type": "markdown",
   "id": "aware-cross",
   "metadata": {},
   "source": [
    "### Plots"
   ]
  },
  {
   "cell_type": "markdown",
   "id": "narrative-illness",
   "metadata": {},
   "source": [
    "#### Select 2020 data"
   ]
  },
  {
   "cell_type": "code",
   "execution_count": 44,
   "id": "expired-block",
   "metadata": {},
   "outputs": [],
   "source": [
    "year = 2020\n",
    "\n",
    "time_condition = data.index.year == year\n",
    "df = data#[time_condition]"
   ]
  },
  {
   "cell_type": "markdown",
   "id": "color-trout",
   "metadata": {},
   "source": [
    "#### Resample to 30 mins data"
   ]
  },
  {
   "cell_type": "code",
   "execution_count": 45,
   "id": "false-cowboy",
   "metadata": {},
   "outputs": [],
   "source": [
    "df = df.resample('30T').mean()"
   ]
  },
  {
   "cell_type": "code",
   "execution_count": 46,
   "id": "computational-retail",
   "metadata": {},
   "outputs": [
    {
     "data": {
      "text/plain": [
       "Text(0, 0.5, 'Close price [$]')"
      ]
     },
     "execution_count": 46,
     "metadata": {},
     "output_type": "execute_result"
    },
    {
     "data": {
      "image/png": "[encoded data removed]",
      "text/plain": [
       "<Figure size 720x432 with 1 Axes>"
      ]
     },
     "metadata": {
      "needs_background": "light"
     },
     "output_type": "display_data"
    }
   ],
   "source": [
    "path_fig = 'C:/Users/Alberto/Desktop/Crypto prediction/Representations/btcusd/'\n",
    "\n",
    "plt.figure(figsize=(10,6))\n",
    "\n",
    "plt.plot(df.index, df['close'], linewidth=1.2, label='btc/usd')\n",
    "plt.xticks(rotation='30')\n",
    "plt.ylabel('Close price [$]')\n",
    "#plt.savefig(path_fig + 'btc_close_2020.png')"
   ]
  },
  {
   "cell_type": "markdown",
   "id": "selective-solid",
   "metadata": {},
   "source": [
    "### Define some indicators"
   ]
  },
  {
   "cell_type": "markdown",
   "id": "educational-steering",
   "metadata": {},
   "source": [
    "#### Simple moving average (SMA)"
   ]
  },
  {
   "cell_type": "code",
   "execution_count": 47,
   "id": "geological-suspension",
   "metadata": {},
   "outputs": [],
   "source": [
    "df['sma_3h'] = df['close'].rolling(window='3h', center=False, min_periods=6).mean()"
   ]
  },
  {
   "cell_type": "code",
   "execution_count": 48,
   "id": "compliant-purpose",
   "metadata": {},
   "outputs": [],
   "source": [
    "df['sma_6h'] = df['close'].rolling(window='6h', center=False, min_periods=12).mean()"
   ]
  },
  {
   "cell_type": "code",
   "execution_count": 49,
   "id": "animated-flashing",
   "metadata": {},
   "outputs": [],
   "source": [
    "df['sma_24h'] = df['close'].rolling(window='24h', center=False, min_periods=48).mean()"
   ]
  },
  {
   "cell_type": "markdown",
   "id": "configured-norman",
   "metadata": {},
   "source": [
    "#### Exponential moving average (EMA)"
   ]
  },
  {
   "cell_type": "code",
   "execution_count": 50,
   "id": "wrong-geography",
   "metadata": {},
   "outputs": [],
   "source": [
    "df['ema_6h'] = df['close'].ewm(span=12, min_periods=12).mean()"
   ]
  },
  {
   "cell_type": "markdown",
   "id": "removable-clearance",
   "metadata": {},
   "source": [
    "#### Relative strenght index (RSI)"
   ]
  },
  {
   "cell_type": "code",
   "execution_count": 51,
   "id": "excess-arthritis",
   "metadata": {},
   "outputs": [],
   "source": [
    "\"\"\"\n",
    "Definition:\n",
    "==========================================================\n",
    "\n",
    "UNITS_OF_TIME = 12   # this value is tipically 14\n",
    "RS = AVG_GAINS(UNITS_OF_TIME) / AVG_LOSSES(UNITS_OF_TIME)\n",
    "\n",
    "RSI = 100 - 100 / (1 + RS)\n",
    "\"\"\"\n",
    "def diff(array):\n",
    "    return array[1] - array[0]\n",
    "\n",
    "def is_gain(array):\n",
    "    return array > 0\n",
    "\n",
    "def rsi_metric(array):\n",
    "    if len(array) == 0:\n",
    "        return np.nan\n",
    "    else:\n",
    "        gains = array[is_gain(array)]\n",
    "        losses = array[is_gain(array) == False]\n",
    "    \n",
    "        len_gains = len(gains)\n",
    "        len_losses = len(losses)\n",
    "        \n",
    "        if len_gains == 0:\n",
    "            return 0\n",
    "        else:\n",
    "            exp_decay = np.exp(- np.arange(1, len_gains + 1 , 1) / len_gains)\n",
    "            avg_gains = np.abs(np.mean(gains * exp_decay))\n",
    "        \n",
    "        if len_losses == 0:\n",
    "            return 100\n",
    "        else:\n",
    "            exp_decay = np.exp(- np.arange(1, len_losses + 1, 1) / len_gains)\n",
    "            avg_losses = np.abs(np.mean(losses * exp_decay))        \n",
    "        \n",
    "        rs = avg_gains / avg_losses\n",
    "    \n",
    "        return 100 - 100 / (1 + rs)\n",
    "\n",
    "# close_variation\n",
    "df['close_variation'] = df['close'].rolling(window=2, min_periods=2).apply(diff, raw=True)\n",
    "\n",
    "# rsi\n",
    "df['rsi'] = df['close_variation'].rolling(window=12, min_periods=12).apply(rsi_metric, raw=True)"
   ]
  },
  {
   "cell_type": "markdown",
   "id": "seven-andorra",
   "metadata": {},
   "source": [
    "#### KDJ"
   ]
  },
  {
   "cell_type": "code",
   "execution_count": 52,
   "id": "alien-variable",
   "metadata": {},
   "outputs": [],
   "source": [
    "\"\"\"\n",
    "For this indicator we need three lines: K, D and J.\n",
    "Definition:\n",
    "==========================================================\n",
    "UNITS_OF_TIME = 12\n",
    "\n",
    "lowest_price_list = # list of the lowest value in each win of UNITS_OF_TIME elements\n",
    "highest_price_list = # list of the highest value in each win of UNITS_OF_TIME elements\n",
    "\n",
    "rsv = (closing_price - lowest_price_list) / (highest_price_list - lowest_price_list)\n",
    "\n",
    "K = # exponentially weighted moving average over rsv with center of mass (com) equals to 2\n",
    "D = # exponentially weighted moving average over K with center of mass (com) equals to 2\n",
    "J = 3 * K - 2 * D\n",
    "\"\"\"\n",
    "UNITS_OF_TIME = 12\n",
    "\n",
    "lowest_price_list = df['low'].rolling(UNITS_OF_TIME, min_periods=UNITS_OF_TIME).min()\n",
    "lowest_price_list.fillna(value = df['low'].expanding().min(), inplace = True)\n",
    "\n",
    "highest_price_list = df['high'].rolling(UNITS_OF_TIME, min_periods=UNITS_OF_TIME).max()\n",
    "highest_price_list.fillna(value = df['high'].expanding().max(), inplace = True)\n",
    "\n",
    "rsv = (df['close'] - lowest_price_list) / (highest_price_list - lowest_price_list) * 100\n",
    "\n",
    "df['K'] = pd.Series(rsv).ewm(com=2).mean()\n",
    "df['D'] = df['K'].ewm(com=2).mean()\n",
    "df['J'] = 3 * df['K'] - 2 * df['D']"
   ]
  },
  {
   "cell_type": "markdown",
   "id": "helpful-tongue",
   "metadata": {},
   "source": [
    "#### Bollinger bands"
   ]
  },
  {
   "cell_type": "code",
   "execution_count": 53,
   "id": "owned-scanning",
   "metadata": {},
   "outputs": [],
   "source": [
    "\"\"\"\n",
    "The Bollinger bands are two simple (or sometimes exponential) moving averages \n",
    "at a distance of k times the standard deviation over and below the s(e)ma.\n",
    "\n",
    "As we have already calculated some sma, we just have to calculate the standard\n",
    "deviation and plot both bands.\n",
    "\"\"\"\n",
    "ma_type = 'ema_6h'\n",
    "k = 1 # custom parameter\n",
    "\n",
    "df['upper_bb'] = df[ma_type] + k * df[ma_type].rolling(window=20, center=False, min_periods=6).std()\n",
    "df['lower_bb'] = df[ma_type] - k * df[ma_type].rolling(window=20, center=False, min_periods=6).std()"
   ]
  },
  {
   "cell_type": "markdown",
   "id": "commercial-dancing",
   "metadata": {},
   "source": [
    "### Save formatted data"
   ]
  },
  {
   "cell_type": "code",
   "execution_count": 54,
   "id": "twelve-asset",
   "metadata": {},
   "outputs": [],
   "source": [
    "df.to_csv(path_data + 'Formatted/btcusd_fmttd.csv')"
   ]
  },
  {
   "cell_type": "markdown",
   "id": "classified-delivery",
   "metadata": {},
   "source": [
    "##### Select one day data"
   ]
  },
  {
   "cell_type": "code",
   "execution_count": 25,
   "id": "checked-bracket",
   "metadata": {},
   "outputs": [],
   "source": [
    "df_day = df[df.index.date == datetime.date(2020, 7, 23)]"
   ]
  },
  {
   "cell_type": "code",
   "execution_count": 26,
   "id": "excess-chaos",
   "metadata": {},
   "outputs": [],
   "source": [
    "date = df_day.index.date[0].strftime(\"%Y/%m/%d\")"
   ]
  },
  {
   "cell_type": "markdown",
   "id": "waiting-check",
   "metadata": {},
   "source": [
    "#### Find overbought and oversold area limits in the selected period of time"
   ]
  },
  {
   "cell_type": "code",
   "execution_count": 27,
   "id": "complicated-pakistan",
   "metadata": {},
   "outputs": [],
   "source": [
    "\"\"\"\n",
    "Overbought area: K > 80, D > 70, J > 90\n",
    "Oversold area: K < 20, D < 30\n",
    "\"\"\"\n",
    "\n",
    "overbought_condition = (df_day['K'] > 80) & (df_day['D'] > 70) & (df_day['J'] > 90)\n",
    "oversold_condition = (df_day['K'] < 20) & (df_day['D'] < 30)\n",
    "    \n",
    "def lims(array):\n",
    "    lims = [[0,0]]\n",
    "    for idx, value in enumerate(array):\n",
    "        if (value == True) & (idx > lims[-1][-1]):\n",
    "            index = idx + 1\n",
    "            while index <= (len(array) - 1):\n",
    "                if array[index] == True:\n",
    "                    index += 1\n",
    "                else:\n",
    "                    break\n",
    "            if idx < (index - 1):\n",
    "                lims.append([idx, index-1])\n",
    "\n",
    "    return lims[1:]\n",
    "\n",
    "# Indexes of overbought and oversold limit areas\n",
    "ob_lims_id = lims(overbought_condition.values)\n",
    "os_lims_id = lims(oversold_condition.values)\n",
    "\n",
    "# Time of overbought and oversold limit areas\n",
    "ob_in_interval = df_day.index.values[np.isin(np.arange(len(df_day)), ob_lims_id)]\n",
    "os_in_interval = df_day.index.values[np.isin(np.arange(len(df_day)), os_lims_id)]"
   ]
  },
  {
   "cell_type": "markdown",
   "id": "sticky-phone",
   "metadata": {},
   "source": [
    "### Plot"
   ]
  },
  {
   "cell_type": "code",
   "execution_count": 28,
   "id": "adjacent-might",
   "metadata": {},
   "outputs": [],
   "source": [
    "# Choose if plot Bollinger bands or not\n",
    "plot_bb_bands = True"
   ]
  },
  {
   "cell_type": "code",
   "execution_count": 29,
   "id": "waiting-acrobat",
   "metadata": {},
   "outputs": [
    {
     "data": {
      "image/png": "[encoded data removed]",
      "text/plain": [
       "<Figure size 864x648 with 3 Axes>"
      ]
     },
     "metadata": {
      "needs_background": "light"
     },
     "output_type": "display_data"
    }
   ],
   "source": [
    "fig, axes = plt.subplots(3, 1, sharex=True, figsize=(12,9), gridspec_kw={'height_ratios': [3, 1, 1]})\n",
    "\n",
    "plt.xticks(rotation='30')\n",
    "\n",
    "# Plot BTC/USD graph and indicators: sma, ema\n",
    "axes[0].plot(df_day.index, df_day['close'], linewidth=1.5, label='btc/usd')\n",
    "axes[0].plot(df_day.index, df_day['sma_3h'], linewidth=1.2, label='sma 3h')\n",
    "axes[0].plot(df_day.index, df_day['sma_6h'], linewidth=1.2, label='sma 6h')\n",
    "axes[0].plot(df_day.index, df_day['ema_6h'], linewidth=1.2, label='ema 6h')\n",
    "\n",
    "if plot_bb_bands:\n",
    "        axes[0].fill_between(df_day.index, df_day['upper_bb'], df_day['lower_bb'],\n",
    "                             color='cornflowerblue', alpha=0.3,\n",
    "                             linewidth=0.6, label='Boll')\n",
    "\n",
    "    \n",
    "axes[0].legend()\n",
    "axes[0].set_ylabel('Close price [$]')\n",
    "axes[0].set_title(f'BTC/USD on {date}')\n",
    "axes[0].grid()\n",
    "\n",
    "# Plot indicator: rsi\n",
    "axes[1].plot(df_day.index, df_day['rsi'], linewidth=1.2, label='rsi')\n",
    "axes[1].plot(df_day.index, [70] * len(df_day.index), 'r--', linewidth=0.8, label='overbought')\n",
    "axes[1].plot(df_day.index, [30] * len(df_day.index), 'g--', linewidth=0.8, label='oversold')\n",
    "axes[1].set_ylabel('rsi')\n",
    "axes[1].set_ylim([0,100])\n",
    "axes[1].set_yticks([0, 30, 70, 100])\n",
    "axes[1].grid()\n",
    "\n",
    "# Plot indicator: KDJ and overbought and oversold areas\n",
    "axes[2].plot(df_day.index, df_day['K'], linewidth=1.2, label='K')\n",
    "axes[2].plot(df_day.index, df_day['D'], linewidth=1.2, label='D')\n",
    "axes[2].plot(df_day.index, df_day['J'], linewidth=1.2, label='J')\n",
    "axes[2].set_ylabel('KDJ')\n",
    "axes[2].set_xlabel('Time')\n",
    "#axes[2].legend()\n",
    "for lim in range(len(ob_in_interval)):\n",
    "    if (lim % 2 == 0) & ((lim + 1) < (len(ob_in_interval))):\n",
    "        axes[2].axvspan(ob_in_interval[lim], ob_in_interval[lim+1], color='red', alpha=0.4)\n",
    "for lim in range(len(os_in_interval)):\n",
    "    if (lim % 2 == 0) & ((lim + 1) < (len(os_in_interval))):\n",
    "        axes[2].axvspan(os_in_interval[lim], os_in_interval[lim+1], color='green', alpha=0.4)\n",
    "        \n",
    "axes[2].grid()\n",
    "\n",
    "#plt.savefig(path_fig + 'btcusd_indicators.png')"
   ]
  },
  {
   "cell_type": "code",
   "execution_count": null,
   "id": "novel-reserve",
   "metadata": {},
   "outputs": [],
   "source": []
  }
 ],
 "metadata": {
  "kernelspec": {
   "display_name": "Python 3",
   "language": "python",
   "name": "python3"
  },
  "language_info": {
   "codemirror_mode": {
    "name": "ipython",
    "version": 3
   },
   "file_extension": ".py",
   "mimetype": "text/x-python",
   "name": "python",
   "nbconvert_exporter": "python",
   "pygments_lexer": "ipython3",
   "version": "3.8.2"
  }
 },
 "nbformat": 4,
 "nbformat_minor": 5
}
